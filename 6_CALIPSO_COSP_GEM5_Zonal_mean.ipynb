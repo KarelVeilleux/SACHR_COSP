{
 "cells": [
  {
   "cell_type": "code",
   "execution_count": 14,
   "id": "lesser-jumping",
   "metadata": {},
   "outputs": [],
   "source": [
    "import matplotlib        as mpl\n",
    "import matplotlib.pyplot as plt\n",
    "import numpy             as np\n",
    "import pandas            as pd\n",
    "import yaml\n",
    "import netCDF4\n",
    "import sys\n",
    "\n",
    "sys.path.append('/home/veilleux/Projet/Projet_SACHR/analyses_and_figures/python_modules')\n",
    "from domain         import generate_domain_coord\n",
    "from domain         import convert_latlon_to_domain_indices\n",
    "from satellite      import extract_satellite_track\n",
    "\n",
    "NaN = np.nan\n",
    "import warnings\n",
    "warnings.filterwarnings(\"ignore\")"
   ]
  },
  {
   "cell_type": "code",
   "execution_count": 15,
   "id": "twenty-truth",
   "metadata": {},
   "outputs": [],
   "source": [
    "def convert_calipso_data_in_2D(ncfile, varname, coord_domain, ni, nj):\n",
    "\n",
    "    track   = extract_satellite_track(ncfile, coord_domain, 'calipso')\n",
    "    indices = convert_latlon_to_domain_indices(track, 'NAM11')\n",
    "\n",
    "    nc      = netCDF4.Dataset(ncfile,'r')\n",
    "    data    = nc[varname][track['index']]\n",
    "\n",
    "    data_sum  = np.ones((655,655)) * 0\n",
    "    data_n    = np.ones((655,655)) * 0\n",
    "    for i in range(len(indices['i'])): \n",
    "        I = indices['i'][i]\n",
    "        J = indices['j'][i]\n",
    "        data_sum[I, J] = data_sum[I, J] + data[i]\n",
    "        data_n[  I, J] = data_n[  I, J] + 1\n",
    "    return data_sum/data_n"
   ]
  },
  {
   "cell_type": "code",
   "execution_count": 17,
   "id": "fifteen-switzerland",
   "metadata": {},
   "outputs": [],
   "source": [
    " #########################################################################\n",
    "# Input arguments                                                       #\n",
    "#########################################################################\n",
    "\n",
    "working_directory = '/home/veilleux/Projet/Projet_SACHR/analyses_and_figures'\n",
    "YYYYi             = int(2014)\n",
    "YYYYf             = int(2015)\n",
    "period            = 'DJF'\n",
    "window            = int(25)\n",
    "layerdef          = 'pmaxran'\n",
    "#########################################################################\n",
    "# Hardcoded values                                                      #\n",
    "#########################################################################\n",
    "if   period == 'annual': MMs = [1,2,3,4,5,6,7,8,9,10,11,12]\n",
    "elif period == 'DJF'   : MMs = [ 1, 2,12]\n",
    "elif period == 'MAM'   : MMs = [ 3, 4, 5]\n",
    "elif period == 'JJA'   : MMs = [ 6, 7, 8]\n",
    "elif period == 'SON'   : MMs = [ 9,10,11]\n",
    "else                   : MMs = [ int(period) ] # single month\n",
    "\n",
    "#########################################################################\n",
    "# Configuration file (yml)                                              #\n",
    "#########################################################################\n",
    "yml_file = working_directory + '/config.yml'\n",
    "stream = open(yml_file,'r')\n",
    "config = yaml.safe_load(stream)\n",
    "\n",
    "dirlist = config['CALIPSO_CHINOOK']['list']\n",
    "\n",
    "### COMPLETE filelist 2014-2015\n",
    "filelist   = dirlist + '/' + '2014_2015.txt'\n",
    "df         = pd.read_csv(filelist,delimiter='\\s+', header=None)\n",
    "df.columns = ['file', 'ndata', 'ti', 'tf', 'date', 'MM', 'date_gem', 't_gem']\n",
    "df         = df[   np.isin(df['MM'], MMs)  ].reset_index(drop=True)\n"
   ]
  },
  {
   "cell_type": "code",
   "execution_count": 26,
   "id": "upset-cycle",
   "metadata": {},
   "outputs": [],
   "source": [
    "gemname              = \"COSP2_NAM-11m_ERA5_GEM5_CLASS_NEWVEG_newP3-SCPF_SN_Lakes\"\n",
    "pm                   = \"pm2013010100\"\n",
    "# CRCM6-GEM5 filepath\n",
    "GEM5_filepath    = config['GEM5']['NetCDF']+'/{}_YYYYMM/{}_YYYYMMDDd.nc'.format(gemname,pm)\n",
    "#COSP2(CRCM6) filepath\n",
    "COSP2_filepath   = config['COSP2']['output']+ '/NAM11/M01SC002/CALIPSO/calipso_cloudprofile/YYYYMM/cospout_YYYYMMDDHH00_2D.nc'"
   ]
  },
  {
   "cell_type": "code",
   "execution_count": null,
   "id": "australian-subcommittee",
   "metadata": {},
   "outputs": [],
   "source": []
  },
  {
   "cell_type": "code",
   "execution_count": null,
   "id": "orange-advocate",
   "metadata": {},
   "outputs": [],
   "source": []
  }
 ],
 "metadata": {
  "kernelspec": {
   "display_name": "Python 3",
   "language": "python",
   "name": "python3"
  },
  "language_info": {
   "codemirror_mode": {
    "name": "ipython",
    "version": 3
   },
   "file_extension": ".py",
   "mimetype": "text/x-python",
   "name": "python",
   "nbconvert_exporter": "python",
   "pygments_lexer": "ipython3",
   "version": "3.8.6"
  }
 },
 "nbformat": 4,
 "nbformat_minor": 5
}
